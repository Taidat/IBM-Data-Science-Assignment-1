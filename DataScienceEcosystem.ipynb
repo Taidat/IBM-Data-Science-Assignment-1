{
 "cells": [
  {
   "cell_type": "markdown",
   "id": "4bb4dbac",
   "metadata": {},
   "source": [
    "# Data Science Tools and Ecosystem"
   ]
  },
  {
   "cell_type": "markdown",
   "id": "45c37399",
   "metadata": {},
   "source": [
    "In this notebook, Data Science Tools and Ecosystem are summarized."
   ]
  },
  {
   "cell_type": "markdown",
   "id": "91e31330",
   "metadata": {},
   "source": [
    "# **Objective:**\n",
    "\n",
    "* List popular languages for Data Science\n",
    "* List commonly used Libraries by Data Scientisttools \n",
    "* List Data Science in a Table\n",
    "* Arithmetic expressions in Python"
   ]
  },
  {
   "cell_type": "markdown",
   "id": "7d82574e",
   "metadata": {},
   "source": [
    "Some of the popular languages that Data Scientists use are:\n",
    "1. Python\n",
    "2. R\n",
    "3. SQL\n",
    "4. Scala\n",
    "5. Java"
   ]
  },
  {
   "cell_type": "markdown",
   "id": "1a77162b",
   "metadata": {},
   "source": [
    "Some of the commonly used libraries used by Data Scientists include:\n",
    "1. Python Libraries\n",
    "2. Visualization Libraries\n",
    "3. Machine Learning Libraries\n",
    "4. Deep Learning Libraries"
   ]
  },
  {
   "cell_type": "markdown",
   "id": "7ce39281",
   "metadata": {},
   "source": [
    "| Data Science Tools|\n",
    "| :------:|\n",
    "| Jupyter|\n",
    "| R Studio |\n",
    "| JupyterLab|"
   ]
  },
  {
   "cell_type": "markdown",
   "id": "d14afed5",
   "metadata": {},
   "source": [
    "### Below are a few examples of evaluating arithmetic expressions in Python\n",
    "***"
   ]
  },
  {
   "cell_type": "code",
   "execution_count": 9,
   "id": "7676de1f",
   "metadata": {},
   "outputs": [
    {
     "data": {
      "text/plain": [
       "17"
      ]
     },
     "execution_count": 9,
     "metadata": {},
     "output_type": "execute_result"
    }
   ],
   "source": [
    "#this a simple arithmetic expression to mutiply then add integers\n",
    "\n",
    "(3*4)+5"
   ]
  },
  {
   "cell_type": "code",
   "execution_count": 10,
   "id": "d2bfc740",
   "metadata": {},
   "outputs": [
    {
     "data": {
      "text/plain": [
       "3.3333333333333335"
      ]
     },
     "execution_count": 10,
     "metadata": {},
     "output_type": "execute_result"
    }
   ],
   "source": [
    "#This will convert 200 minutes to hours by diving by 60\n",
    "\n",
    "200/60"
   ]
  },
  {
   "cell_type": "markdown",
   "id": "c2ce3e98",
   "metadata": {},
   "source": [
    "## Author\n",
    "\n",
    "Dauda Taiwo"
   ]
  }
 ],
 "metadata": {
  "kernelspec": {
   "display_name": "Python 3 (ipykernel)",
   "language": "python",
   "name": "python3"
  },
  "language_info": {
   "codemirror_mode": {
    "name": "ipython",
    "version": 3
   },
   "file_extension": ".py",
   "mimetype": "text/x-python",
   "name": "python",
   "nbconvert_exporter": "python",
   "pygments_lexer": "ipython3",
   "version": "3.10.11"
  }
 },
 "nbformat": 4,
 "nbformat_minor": 5
}
